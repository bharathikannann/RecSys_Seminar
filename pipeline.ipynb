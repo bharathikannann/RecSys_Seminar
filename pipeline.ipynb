{
 "cells": [
  {
   "cell_type": "code",
   "execution_count": null,
   "id": "14bd0ab9",
   "metadata": {},
   "outputs": [],
   "source": [
    "from sklearn import metrics\n",
    "from sklearn.ensemble import RandomForestRegressor\n",
    "import pandas as pd\n",
    "from configparser import ConfigParser\n",
    "import json\n",
    "import os\n",
    "from os.path import exists\n",
    "import pickle\n",
    "import numpy as np\n",
    "from collections import OrderedDict\n",
    "import matplotlib.pyplot as plt\n",
    "import re\n",
    "\n",
    "from myfm import MyFMRegressor"
   ]
  },
  {
   "cell_type": "code",
   "execution_count": null,
   "id": "f4168ddd",
   "metadata": {},
   "outputs": [],
   "source": [
    "#Read config.ini file\n",
    "config = ConfigParser()\n",
    "config.read(\"config.ini\")\n",
    "dataset_info = config[\"DATASETS\"]\n",
    "fm_data_path = dataset_info['fm_path']\n",
    "fm_data_path_new = dataset_info['fm_path_new']\n",
    "rf_data_path = dataset_info['rf_path']\n",
    "train_set_filename = dataset_info['train_filename']\n",
    "test_set_filename = dataset_info['test_filename']\n",
    "description_filename = dataset_info['description_filename']\n",
    "\n",
    "model_info = config[\"MODELS\"]\n",
    "model_path = model_info['model_path']\n",
    "fm_filename = model_info['fm_model_filename']\n",
    "rf_filename = model_info['rf_model_filename']\n",
    "\n",
    "fs_info = config['FEATURE_SELECTION']\n",
    "fs_path = fs_info['fs_rf_path']\n",
    "fs_final_path = fs_info['fs_final_path']"
   ]
  },
  {
   "cell_type": "code",
   "execution_count": null,
   "id": "fd26e8a4",
   "metadata": {},
   "outputs": [],
   "source": [
    "path = dataset_info['ori_path']\n",
    "genre_cols = pd.read_csv(path + 'ml-100k/u.genre', sep='|', header=None)[0].to_numpy().tolist()"
   ]
  },
  {
   "cell_type": "markdown",
   "id": "0eb7e1d9",
   "metadata": {},
   "source": [
    "### FM Training and Testing data"
   ]
  },
  {
   "cell_type": "code",
   "execution_count": null,
   "id": "5f0aae5d",
   "metadata": {},
   "outputs": [],
   "source": [
    "train = pickle.load(open(fm_data_path_new + train_set_filename, 'rb'))\n",
    "test = pickle.load(open(fm_data_path_new + test_set_filename, 'rb'))\n",
    "X_train = train.drop(['rating'], axis=1)\n",
    "X_test = test.drop(['rating'], axis=1)\n",
    "y_train = train['rating']\n",
    "y_test = test['rating']\n",
    "\n",
    "\n",
    "with open(fm_data_path + description_filename) as f:\n",
    "    meta_data = json.load(f)\n",
    "    group_shapes = [v for k,v in meta_data.items()]"
   ]
  },
  {
   "cell_type": "markdown",
   "id": "03478a5a",
   "metadata": {},
   "source": [
    "# Baseline Model"
   ]
  },
  {
   "cell_type": "code",
   "execution_count": null,
   "id": "d85971d1",
   "metadata": {},
   "outputs": [],
   "source": [
    "fm = MyFMRegressor(rank=10, random_seed = 332)\n",
    "fm.fit(X_train, y_train, n_iter=200, n_kept_samples=200)\n",
    "\n",
    "prediction = fm.predict(X_test)\n",
    "rmse = ((y_test - prediction) ** 2).mean() ** .5\n",
    "mae = np.abs(y_test - prediction).mean()\n",
    "print(f'rmse={rmse}, mae={mae}')"
   ]
  },
  {
   "cell_type": "markdown",
   "id": "b4f701b6",
   "metadata": {},
   "source": [
    "---"
   ]
  },
  {
   "cell_type": "markdown",
   "id": "90c98d22",
   "metadata": {},
   "source": [
    "# Random Forest column names to MyFM columns"
   ]
  },
  {
   "cell_type": "code",
   "execution_count": null,
   "id": "5dad24a1",
   "metadata": {},
   "outputs": [],
   "source": [
    "# Getting all the methods we have implemeted, file name represents the method name we have immplemented\n",
    "available_methods_rf = []\n",
    "for subdir, dirs, files in os.walk(fs_final_path):\n",
    "    if len(dirs) == 1:\n",
    "        for file in files:\n",
    "            available_methods_rf.append(file[:])\n",
    "pd.DataFrame(available_methods_rf)"
   ]
  },
  {
   "cell_type": "code",
   "execution_count": null,
   "id": "3081f8b2",
   "metadata": {},
   "outputs": [],
   "source": [
    "# Combining all the data we have in our feature selection folder for randomforest\n",
    "# Folder names represent the feature seletion method, so creating a key for all methods\n",
    "selected_col_dict_rf = {}\n",
    "for i in available_methods_rf:\n",
    "    selected_col_dict_rf[i] = []\n",
    "selected_col_dict_rf.keys()"
   ]
  },
  {
   "cell_type": "code",
   "execution_count": null,
   "id": "8c2fa8a5",
   "metadata": {},
   "outputs": [],
   "source": [
    "# Storing corresponding json data in the key.\n",
    "for i in range(len(available_methods_rf)):\n",
    "    f = open(fs_final_path + available_methods_rf[i] + \".json\")\n",
    "    selected_col_dict_rf[available_methods_rf[i]] = json.load(f)"
   ]
  },
  {
   "cell_type": "code",
   "execution_count": null,
   "id": "c998b7e5",
   "metadata": {},
   "outputs": [],
   "source": [
    "# # choose the method\n",
    "# choose_method = 4\n",
    "# sel_from_model_col_rf = selected_col_dict_rf[available_methods_rf[choose_method]][\"columns\"].copy()\n",
    "# available_methods_rf[choose_method]"
   ]
  },
  {
   "cell_type": "markdown",
   "id": "9e46c15d",
   "metadata": {},
   "source": [
    "# Training MyFM model\n",
    "\n",
    "There are two formats in which we get the columns from feature selection\n",
    "\n",
    "1. Some feature selection methods give only the specified number of features we want by specifying k. So a separete list is created each time for different values of k and they are imported separately here for training the myFM."
   ]
  },
  {
   "cell_type": "code",
   "execution_count": null,
   "id": "ef183f7e",
   "metadata": {},
   "outputs": [],
   "source": [
    "path = 'feature_selection/final/f-classif/'\n",
    "\n",
    "# Getting all the methods we have implemeted, file name represents the method name we have immplemented\n",
    "available_methods_sfm = []\n",
    "for subdir, dirs, files in os.walk(path):\n",
    "    for file in files:\n",
    "        available_methods_sfm.append(file[:-5])\n",
    "pd.DataFrame(available_methods_sfm)"
   ]
  },
  {
   "cell_type": "code",
   "execution_count": null,
   "id": "9a136bd5",
   "metadata": {},
   "outputs": [],
   "source": [
    "# Storing corresponding json data in the key.\n",
    "select_from_model_dict = {}\n",
    "for i in range(len(available_methods_sfm)):\n",
    "    f = open(path + available_methods_sfm[i] + \".json\")\n",
    "    select_from_model_dict[available_methods_sfm[i]] = json.load(f)"
   ]
  },
  {
   "cell_type": "code",
   "execution_count": null,
   "id": "aec43971",
   "metadata": {},
   "outputs": [],
   "source": [
    "for i in range(1,len(select_from_model_dict)):\n",
    "    temp = \"f-classif_\" + str(i*50)\n",
    "    select_from_model_dict[temp]['columns'][::-1]"
   ]
  },
  {
   "cell_type": "code",
   "execution_count": null,
   "id": "41371c07",
   "metadata": {},
   "outputs": [],
   "source": [
    "def covert_fs_to_fm(cols, X_fm, genre_cols):\n",
    "    \n",
    "    '''\n",
    "    Convert the columns obtained from feature selection methods to fm dataset format\n",
    "    1. Add user id and movie id, group the features and group selected genres\n",
    "    \n",
    "    * cols - all the selected columns\n",
    "    * X_fm - all the myfm data\n",
    "    * genre_cols - The total genre list. Used to group them in group shapes.\n",
    "                   Every genre is a different feaure in random forest. but in MyFM \n",
    "                   all the genre should be combined into a single key.                  \n",
    "    \n",
    "    '''\n",
    "    \n",
    "    # -----------------------------------------------------------------------\n",
    "    # Preprocessing columns\n",
    "    # -------------------------------------------X_train_temp_fs-------------\n",
    "    group_shapes = OrderedDict()\n",
    "     \n",
    "    X_train_temp_fs = pd.concat([X_fm.filter(regex = 'user_id'), X_fm.filter(regex = 'movie_id')], axis = 1)\n",
    "    group_shapes['user_id'] = 943\n",
    "    group_shapes['movie_id_id'] = 1681\n",
    "    \n",
    "    X_temp = X_fm[cols]\n",
    "    X_temp_cols = X_temp.columns\n",
    "    \n",
    "    \n",
    "    for i in ['timestamp','release_date','age','sex','occupation','zip_code']:\n",
    "        if len(X_temp.filter(regex = i).columns):\n",
    "            X_train_temp_fs = pd.concat([X_train_temp_fs, X_temp.filter(regex = i)], axis = 1)\n",
    "            group_shapes[i] = len(X_temp.filter(regex = i).columns)\n",
    "\n",
    "    if list(set(X_temp_cols) & set(genre_cols)):\n",
    "        group_shapes['genre'] = 0\n",
    "        for col in list(set(X_temp_cols) & set(genre_cols)):\n",
    "            temp = X_temp.filter(regex=col, axis=1)\n",
    "            X_train_temp_fs = pd.concat([X_train_temp_fs, temp], axis = 1)\n",
    "            group_shapes['genre'] = group_shapes['genre'] + 1 \n",
    "    \n",
    "    group_shapes_list = [j for i,j in group_shapes.items()]\n",
    "    return X_train_temp_fs, group_shapes, group_shapes_list"
   ]
  },
  {
   "cell_type": "code",
   "execution_count": null,
   "id": "d0204e55",
   "metadata": {},
   "outputs": [],
   "source": [
    "sel_from_model_col_rf = select_from_model_dict[\"f-classif_\" + str(8*50)]['columns'][::-1]\n",
    "X_train_t, group_shapes_dict, group_shapes = covert_fs_to_fm(sel_from_model_col_rf, X_train, genre_cols)\n",
    "X_train_t.shape"
   ]
  },
  {
   "cell_type": "code",
   "execution_count": null,
   "id": "6dd83891",
   "metadata": {},
   "outputs": [],
   "source": [
    "rmse_results = []\n",
    "\n",
    "X_train_temp = pd.concat([X_train.filter(regex = 'user_id'), X_train.filter(regex = 'movie_id')], axis = 1)\n",
    "X_test_temp = pd.concat([X_test.filter(regex = 'user_id'), X_test.filter(regex = 'movie_id')], axis = 1)\n",
    "\n",
    "for i in range(10,11):\n",
    "\n",
    "    sel_from_model_col_rf = select_from_model_dict[\"f-classif_\" + str(i*50)]['columns'][::-1]\n",
    "    \n",
    "    X_train_final, group_shapes_dict, group_shapes = covert_fs_to_fm(sel_from_model_col_rf, X_train, genre_cols)\n",
    "    X_test_final, group_shapes_dict, group_shapes = covert_fs_to_fm(sel_from_model_col_rf, X_test, genre_cols)\n",
    "\n",
    "    print(X_train_final.shape)\n",
    "    fm = MyFMRegressor(rank=10, random_seed = 332)\n",
    "    fm.fit(X_train_final, y_train, n_iter=200, n_kept_samples=200, group_shapes = group_shapes)\n",
    "\n",
    "    prediction = fm.predict(X_test_final)\n",
    "    rmse = ((y_test - prediction) ** 2).mean() ** .5\n",
    "    mae = np.abs(y_test - prediction).mean()\n",
    "    print(f'rmse={rmse}, mae={mae}')\n",
    "    rmse_results.append(rmse)\n",
    "    del(fm)"
   ]
  },
  {
   "cell_type": "markdown",
   "id": "1ea3597c",
   "metadata": {},
   "source": [
    "## Tree based methods\n",
    "\n",
    "Tree based methods have only one feature importance column. The columns are sorted based on the importance. Everytime, top N features are seklected and given to the myFM model"
   ]
  },
  {
   "cell_type": "code",
   "execution_count": null,
   "id": "dfdb56ae",
   "metadata": {},
   "outputs": [],
   "source": [
    "# choose the method\n",
    "choose_method = 0\n",
    "sel_from_model_col_rf = selected_col_dict_rf[available_methods_rf[choose_method]][\"columns\"].copy()"
   ]
  },
  {
   "cell_type": "code",
   "execution_count": null,
   "id": "241c3756",
   "metadata": {},
   "outputs": [],
   "source": [
    "len(sel_from_model_col_rf)"
   ]
  },
  {
   "cell_type": "code",
   "execution_count": null,
   "id": "d2ae0fcf",
   "metadata": {},
   "outputs": [],
   "source": [
    "available_methods_rf[choose_method]"
   ]
  },
  {
   "cell_type": "code",
   "execution_count": null,
   "id": "c9d96b7c",
   "metadata": {},
   "outputs": [],
   "source": [
    "rmse_results = []\n",
    "\n",
    "# choose the method\n",
    "choose_method = 2\n",
    "sel_from_model_col_rf = selected_col_dict_rf[available_methods_rf[choose_method]][\"columns\"].copy()\n",
    "print(available_methods_rf[choose_method])\n",
    "\n",
    "X_train_temp = pd.concat([X_train.filter(regex = 'user_id'), X_train.filter(regex = 'movie_id')], axis = 1)\n",
    "X_test_temp = pd.concat([X_test.filter(regex = 'user_id'), X_test.filter(regex = 'movie_id')], axis = 1)\n",
    "\n",
    "for k in [len(sel_from_model_col_rf)]:\n",
    "\n",
    "    X_train_final, group_shapes_dict, group_shapes = covert_fs_to_fm(sel_from_model_col_rf[:k], X_train, genre_cols)\n",
    "    X_test_final, group_shapes_dict, group_shapes = covert_fs_to_fm(sel_from_model_col_rf[:k], X_test, genre_cols)\n",
    "\n",
    "    print(X_train_final.shape)\n",
    "    fm = MyFMRegressor(rank=10, random_seed = 332)\n",
    "    fm.fit(X_train_final, y_train, n_iter=200, n_kept_samples=200)\n",
    "\n",
    "    prediction = fm.predict(X_test_final)\n",
    "    rmse = ((y_test - prediction) ** 2).mean() ** .5\n",
    "    mae = np.abs(y_test - prediction).mean()\n",
    "    print(f'rmse={rmse}, mae={mae}')\n",
    "    rmse_results.append(rmse)"
   ]
  },
  {
   "cell_type": "markdown",
   "id": "acc5f0b3",
   "metadata": {},
   "source": [
    "# Save and plot model"
   ]
  },
  {
   "cell_type": "code",
   "execution_count": null,
   "id": "caeffdd8",
   "metadata": {},
   "outputs": [],
   "source": [
    "rmse_results_copy = rmse_results.copy()\n",
    "rmse_results.insert(0,0)"
   ]
  },
  {
   "cell_type": "code",
   "execution_count": null,
   "id": "a9b2f759",
   "metadata": {},
   "outputs": [],
   "source": [
    "colors = ['olive','b','c','m','y','brown','r','g']\n",
    "plt.figure(figsize=(12,6))\n",
    "plt.ylim(0.85,0.93)\n",
    "plt.xlim(550,-50)\n",
    "for c, i in enumerate(range(len(df.columns))):\n",
    "    plt.plot([0,50,100,150,200,250,300,350,400,450,500,524], rmse_results.iloc[:,i].values[1:], color = colors[i], label = df.iloc[:,i].name, linestyle = '--', marker = '*')\n",
    "plt.xlabel(\"No of Additional Parameters\")\n",
    "plt.ylabel(\"Validation RMSE\")\n",
    "plt.legend(bbox_to_anchor=(1.31,1))\n",
    "plt.show()"
   ]
  },
  {
   "cell_type": "code",
   "execution_count": null,
   "id": "07d647aa",
   "metadata": {},
   "outputs": [],
   "source": [
    "np.savetxt(\"feature_selection/final_results/f-classif.csv\", \n",
    "           rmse_results,\n",
    "           delimiter =\", \", \n",
    "           fmt ='% s')"
   ]
  }
 ],
 "metadata": {
  "kernelspec": {
   "display_name": "Python 3",
   "language": "python",
   "name": "python3"
  },
  "language_info": {
   "codemirror_mode": {
    "name": "ipython",
    "version": 3
   },
   "file_extension": ".py",
   "mimetype": "text/x-python",
   "name": "python",
   "nbconvert_exporter": "python",
   "pygments_lexer": "ipython3",
   "version": "3.8.8"
  }
 },
 "nbformat": 4,
 "nbformat_minor": 5
}
