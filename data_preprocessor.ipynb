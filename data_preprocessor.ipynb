{
 "cells": [
  {
   "cell_type": "code",
   "execution_count": 1,
   "id": "8d9f7f95",
   "metadata": {},
   "outputs": [],
   "source": [
    "import numpy as np\n",
    "import pandas as pd\n",
    "import matplotlib.pyplot as plt\n",
    "import calendar\n",
    "import datetime\n",
    "import json \n",
    "from collections import OrderedDict"
   ]
  },
  {
   "cell_type": "code",
   "execution_count": 2,
   "id": "4f3447f8",
   "metadata": {},
   "outputs": [],
   "source": [
    "# get mean rating for the user x\n",
    "def get_mean_rating(x, mean_rating):\n",
    "    return float(mean_rating[mean_rating['user_id'] == x]['mean_rating'].to_numpy()[0])"
   ]
  },
  {
   "cell_type": "code",
   "execution_count": 3,
   "id": "e994fa5e",
   "metadata": {},
   "outputs": [],
   "source": [
    "# format release date\n",
    "def date_obj_to_datetime(data):\n",
    "    arr = list()\n",
    "    for i,l in enumerate(data):\n",
    "        if ord(l) == 45:\n",
    "            arr.append(i)\n",
    "    date = int(data[0:arr[0]])\n",
    "    month_name = data[arr[0]+1:arr[1]]\n",
    "    datetime_object = datetime.datetime.strptime(month_name, \"%b\")\n",
    "    month = datetime_object.month\n",
    "    year = int(data[arr[1]+1:arr[1]+5])\n",
    "    date = datetime.datetime(year, month, date)\n",
    "#     utc_time = calendar.timegm(date.utctimetuple())\n",
    "#     return(utc_time)\n",
    "    return date"
   ]
  },
  {
   "cell_type": "code",
   "execution_count": 4,
   "id": "12620e86",
   "metadata": {},
   "outputs": [],
   "source": [
    "# format timestamp\n",
    "def unix_to_datetime(data):\n",
    "    temp = datetime.datetime.fromtimestamp(data)\n",
    "    date = datetime.datetime(temp.year, temp.month, temp.day) # temp.hour\n",
    "    return date"
   ]
  },
  {
   "cell_type": "code",
   "execution_count": 5,
   "id": "5ee05ea1",
   "metadata": {},
   "outputs": [],
   "source": [
    "# import user, data, item and genre data\n",
    "path = 'dataset/original/'\n",
    "u_cols = ['user_id', 'age', 'sex', 'occupation', 'zip_code']\n",
    "users = pd.read_csv(path + 'ml-100k/u.user', sep='|', names=u_cols, encoding='latin-1', parse_dates=True) \n",
    "d_cols = ['user_id', 'movie_id', 'rating', 'timestamp']\n",
    "data = pd.read_csv(path + 'ml-100k/u.data', sep='\\t', names=d_cols, encoding='latin-1')\n",
    "m_cols = ['movie_id', 'movie_title', 'release_date', 'video_release_date','imdb_url', 'unknown', 'Action' , 'Adventure' , 'Animation', \"Children's\" , 'Comedy' , 'Crime' , 'Documentary' , 'Drama' , 'Fantasy', \"Film-Noir\" , \"Horror\" , \"Musical\" , \"Mystery\" , \"Romance\" , \"Sci-Fi\" ,\"Thriller\" , \"War\" , \"Western\" ]\n",
    "movies = pd.read_csv(path + 'ml-100k/u.item', sep='|', names=m_cols, usecols=range(24), encoding='latin-1')\n",
    "genre = pd.read_csv(path + 'ml-100k/u.genre')\n",
    "\n",
    "# merge user, data and item\n",
    "movie_ratings = pd.merge(movies, data)\n",
    "df = pd.merge(movie_ratings, users)\n",
    "\n",
    "# for storing the column length for each unique features\n",
    "col_len = OrderedDict()\n",
    "final_columns = [\"movie_id\", \"user_id\", \"timestamp\", \"release_date\", \"unknown\", \"genre\", \"timestamp\", \"sex\", \"cum_mean_rate\", \"mean_rate\", \"zip_code\", \"age\", \"occupation\" ]\n",
    "for col in final_columns:\n",
    "    col_len[col] = 1\n",
    "col_len[\"genre\"] = len(genre)"
   ]
  },
  {
   "cell_type": "code",
   "execution_count": 6,
   "id": "62e08944",
   "metadata": {},
   "outputs": [],
   "source": [
    "# droping some rows that has no release date \n",
    "df.drop(index = df[df['release_date'].isnull() == True].index, inplace = True)"
   ]
  },
  {
   "cell_type": "code",
   "execution_count": 7,
   "id": "60926d82",
   "metadata": {},
   "outputs": [],
   "source": [
    "# calculating cumulative mean rating based on timestamp\n",
    "data_t = data.sort_values(['user_id', 'timestamp']).reset_index(drop=True)\n",
    "data_t['one'] = 1\n",
    "data_t['cumsum'] = data_t.groupby('user_id')['one'].cumsum()\n",
    "data_t['cum_mean_rate'] = data_t.groupby('user_id')['rating'].cumsum() / data_t['cumsum']"
   ]
  },
  {
   "cell_type": "code",
   "execution_count": 8,
   "id": "e30ed198",
   "metadata": {},
   "outputs": [],
   "source": [
    "# calculating mean rating for each user and adding to the original dataframe\n",
    "mean_rating = data_t.groupby('user_id')['rating'].sum() / data_t.groupby('user_id')['one'].sum()\n",
    "mean_rating = mean_rating.reset_index()\n",
    "mean_rating.rename(columns = {0:'mean_rating'}, inplace = True)"
   ]
  },
  {
   "cell_type": "code",
   "execution_count": 9,
   "id": "df3d4085",
   "metadata": {},
   "outputs": [],
   "source": [
    "data_t['mean_rate'] = data_t['user_id']\n",
    "data_t[\"mean_rate\"] = data_t['mean_rate'].apply(lambda x: get_mean_rating(x, mean_rating))"
   ]
  },
  {
   "cell_type": "code",
   "execution_count": 10,
   "id": "86608e3c",
   "metadata": {},
   "outputs": [],
   "source": [
    "# merging to the original dataframe\n",
    "df = df.merge(data_t, how='left', left_on=['timestamp', 'user_id', 'movie_id', 'rating'], right_on=['timestamp', 'user_id', 'movie_id', 'rating'])"
   ]
  },
  {
   "cell_type": "code",
   "execution_count": 11,
   "id": "056a252e",
   "metadata": {},
   "outputs": [],
   "source": [
    "# format release_date\n",
    "df['release_date'] = df['release_date'].apply(lambda x: date_obj_to_datetime(x))"
   ]
  },
  {
   "cell_type": "code",
   "execution_count": 12,
   "id": "4ea8d21b",
   "metadata": {},
   "outputs": [],
   "source": [
    "# format timestamp\n",
    "df['timestamp'] = df['timestamp'].apply(lambda x : unix_to_datetime(x))"
   ]
  },
  {
   "cell_type": "code",
   "execution_count": 13,
   "id": "4251a441",
   "metadata": {},
   "outputs": [],
   "source": [
    "# format age\n",
    "age_labels = []\n",
    "age_bins = np.arange(0,90,10)\n",
    "for i in range(len(age_bins)-1):\n",
    "    age_labels.append(str(age_bins[i]) + '-' + str(age_bins[i+1]))"
   ]
  },
  {
   "cell_type": "code",
   "execution_count": 14,
   "id": "6a6db92d",
   "metadata": {},
   "outputs": [],
   "source": [
    "# convert ages to group of age ranges\n",
    "df['age'] = pd.cut(df['age'], bins = age_bins, labels=age_labels)"
   ]
  },
  {
   "cell_type": "code",
   "execution_count": 15,
   "id": "f57820a9",
   "metadata": {},
   "outputs": [],
   "source": [
    "# format zip code\n",
    "df['zip_code'] = df['zip_code'].str[0]"
   ]
  },
  {
   "cell_type": "code",
   "execution_count": 16,
   "id": "807cf059",
   "metadata": {},
   "outputs": [],
   "source": [
    "# Handling categorical column\n",
    "df['sex'] = (df['sex'] == 'M').astype(int)\n",
    "categorical_columns = [\"zip_code\", \"age\", \"occupation\"]\n",
    "for col in categorical_columns:\n",
    "    col_len[col] = df[col].nunique()\n",
    "    df_dummies = pd.get_dummies(df[col], prefix=col)\n",
    "    df = pd.concat([df, df_dummies], axis = 1)\n",
    "df.drop(categorical_columns, axis = 1, inplace = True)"
   ]
  },
  {
   "cell_type": "code",
   "execution_count": 17,
   "id": "a5658001",
   "metadata": {},
   "outputs": [],
   "source": [
    "# Preprocessing some numerical columns\n",
    "numerical_columns = [\"release_date\", \"timestamp\", \"user_id\", \"movie_id\"]\n",
    "for col in numerical_columns:\n",
    "    col_len[col] = df[col].nunique()\n",
    "    df_dummies = pd.get_dummies(df[col], prefix=col)\n",
    "    df = pd.concat([df_dummies, df], axis = 1)\n",
    "df.drop(numerical_columns, axis = 1, inplace = True)"
   ]
  },
  {
   "cell_type": "code",
   "execution_count": 18,
   "id": "01d5ebf3",
   "metadata": {},
   "outputs": [],
   "source": [
    "# droping all unnecessary columns\n",
    "df.drop([\"video_release_date\", \"imdb_url\", \"movie_title\", \"one\", \"cumsum\"], axis = 1, inplace = True)"
   ]
  },
  {
   "cell_type": "code",
   "execution_count": 19,
   "id": "c49596d9",
   "metadata": {},
   "outputs": [],
   "source": [
    "export_path = 'dataset/preprocessed/'"
   ]
  },
  {
   "cell_type": "code",
   "execution_count": 44,
   "id": "e350abe4",
   "metadata": {},
   "outputs": [],
   "source": [
    "# export csv file\n",
    "df.to_csv(export_path + 'ml-100k-preprocessed.csv', index = False)"
   ]
  },
  {
   "cell_type": "code",
   "execution_count": 45,
   "id": "7e9a3195",
   "metadata": {},
   "outputs": [],
   "source": [
    "# saving info about data\n",
    "with open(export_path + \"ml-100k-preprocessed.json\", \"w\") as outfile:\n",
    "    json.dump(col_len, outfile)"
   ]
  }
 ],
 "metadata": {
  "kernelspec": {
   "display_name": "Python 3",
   "language": "python",
   "name": "python3"
  },
  "language_info": {
   "codemirror_mode": {
    "name": "ipython",
    "version": 3
   },
   "file_extension": ".py",
   "mimetype": "text/x-python",
   "name": "python",
   "nbconvert_exporter": "python",
   "pygments_lexer": "ipython3",
   "version": "3.8.8"
  }
 },
 "nbformat": 4,
 "nbformat_minor": 5
}
