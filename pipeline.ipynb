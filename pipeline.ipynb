{
 "cells": [
  {
   "cell_type": "code",
   "execution_count": null,
   "id": "2a10046f",
   "metadata": {},
   "outputs": [],
   "source": [
    "from sklearn.model_selection import train_test_split\n",
    "from sklearn import metrics\n",
    "from sklearn.ensemble import RandomForestRegressor\n",
    "import pandas as pd\n",
    "\n",
    "from myfm import MyFMRegressor\n",
    "from myfm import MyFMOrderedProbit\n",
    "from myfm.utils.callbacks import RegressionCallback\n",
    "\n",
    "class MyRegressionCallback(RegressionCallback):\n",
    "    def __call__(self, i, fm, hyper, history):\n",
    "        should_stop, description = super(MyRegressionCallback, self).__call__(i, fm, hyper, history)\n",
    "        trace_result = self.result_trace[-1]\n",
    "        if len(self.result_trace) > 8:\n",
    "            for index in range(8):\n",
    "                old_trace_result = self.result_trace[-(index + 1)]\n",
    "                if abs(old_trace_result['rmse'] - trace_result['rmse']) > 0.0001:\n",
    "                    return (should_stop, description)\n",
    "            return (True, description)\n",
    "        return (should_stop, description)"
   ]
  },
  {
   "cell_type": "code",
   "execution_count": null,
   "id": "097156c3",
   "metadata": {},
   "outputs": [],
   "source": [
    "path = 'dataset/preprocessed/'\n",
    "data = pd.read_csv(path + 'ml-100k-preprocessed.csv', sep=',', encoding='latin-1', nrows=10000, index_col=None)"
   ]
  },
  {
   "cell_type": "code",
   "execution_count": null,
   "id": "b6e21e62",
   "metadata": {},
   "outputs": [],
   "source": [
    "import json"
   ]
  },
  {
   "cell_type": "code",
   "execution_count": null,
   "id": "01ceade6",
   "metadata": {},
   "outputs": [],
   "source": [
    "with open(path + 'ml-100k-preprocessed.json') as f:\n",
    "    meta_data = json.load(f)\n",
    "    group_shapes = [v for k,v in meta_data.items()]"
   ]
  },
  {
   "cell_type": "code",
   "execution_count": null,
   "id": "4c06244c",
   "metadata": {},
   "outputs": [],
   "source": [
    "group_shapes"
   ]
  },
  {
   "cell_type": "code",
   "execution_count": null,
   "id": "d86dfce5",
   "metadata": {},
   "outputs": [],
   "source": [
    "X_train, X_test, y_train, y_test = train_test_split(\n",
    "  data.drop(['rating', 'timestamp'], axis = 1), data['rating'], random_state=42\n",
    ")"
   ]
  },
  {
   "cell_type": "code",
   "execution_count": null,
   "id": "c16c21bb",
   "metadata": {},
   "outputs": [],
   "source": [
    "group_shapes"
   ]
  },
  {
   "cell_type": "code",
   "execution_count": 33,
   "id": "5c3cf865",
   "metadata": {},
   "outputs": [
    {
     "data": {
      "text/plain": [
       "(7500, 2696)"
      ]
     },
     "execution_count": 33,
     "metadata": {},
     "output_type": "execute_result"
    }
   ],
   "source": [
    "X_train.shape"
   ]
  },
  {
   "cell_type": "code",
   "execution_count": null,
   "id": "aeb9050e",
   "metadata": {},
   "outputs": [
    {
     "name": "stderr",
     "output_type": "stream",
     "text": [
      "alpha=0.0000, rmse_mean=447340271593.1005, rmse_this=126288164.0527, rmse_all_but_5=126217158.5504: 100%|█| 400/400 [00\n"
     ]
    }
   ],
   "source": [
    "callback = MyRegressionCallback(5, X_test, y_test.values)\n",
    "\n",
    "reg = MyFMRegressor(rank=1).fit(X_train, y_train, n_iter=400, group_shapes=group_shapes, callback=callback)\n",
    "ord = MyFMOrderedProbit(rank=0).fit(X_train, y_train, n_iter=400, group_shapes=group_shapes)\n",
    "rf = RandomForestRegressor(n_estimators = 400, random_state = 42).fit(X_train, y_train)\n",
    "\n",
    "reg_error = metrics.mean_squared_error(y_test, reg.predict(X_test), squared=False)\n",
    "print(f'FM Regression error: {reg_error}')\n",
    "\n",
    "# ord_error = metrics.mean_squared_error(y_test, ord.predict(X_test), squared=False)\n",
    "# print(f'FM Ordinal Regression error: {ord_error}')\n",
    "\n",
    "# rf_error = metrics.mean_squared_error(y_test, rf.predict(X_test), squared=False)\n",
    "# print(f'Random Forest error: {rf_error}')"
   ]
  },
  {
   "cell_type": "code",
   "execution_count": null,
   "id": "4daa6c7a",
   "metadata": {},
   "outputs": [],
   "source": []
  }
 ],
 "metadata": {
  "kernelspec": {
   "display_name": "Python 3",
   "language": "python",
   "name": "python3"
  },
  "language_info": {
   "codemirror_mode": {
    "name": "ipython",
    "version": 3
   },
   "file_extension": ".py",
   "mimetype": "text/x-python",
   "name": "python",
   "nbconvert_exporter": "python",
   "pygments_lexer": "ipython3",
   "version": "3.8.8"
  }
 },
 "nbformat": 4,
 "nbformat_minor": 5
}
