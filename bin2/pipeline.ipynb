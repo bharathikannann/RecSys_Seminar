{
 "cells": [
  {
   "cell_type": "code",
   "execution_count": null,
   "id": "3b2d6312",
   "metadata": {},
   "outputs": [],
   "source": [
    "from sklearn import metrics\n",
    "from sklearn.ensemble import RandomForestRegressor\n",
    "import pandas as pd\n",
    "from configparser import ConfigParser\n",
    "import json\n",
    "import os\n",
    "from os.path import exists\n",
    "import pickle\n",
    "import numpy as np\n",
    "\n",
    "from myfm import MyFMRegressor\n",
    "# from myfm.utils.callbacks import RegressionCallback\n",
    "\n",
    "# class MyRegressionCallback(RegressionCallback):\n",
    "#     def __call__(self, i, fm, hyper, history):\n",
    "#         should_stop, description = super(MyRegressionCallback, self).__call__(i, fm, hyper, history)\n",
    "#         trace_result = self.result_trace[-1]\n",
    "#         if len(self.result_trace) > 8:\n",
    "#             for index in range(8):\n",
    "#                 old_trace_result = self.result_trace[-(index + 1)]\n",
    "#                 if abs(old_trace_result['rmse'] - trace_result['rmse']) > 0.0001:\n",
    "#                     return (should_stop, description)\n",
    "#             return (True, description)\n",
    "#         return (should_stop, description)"
   ]
  },
  {
   "cell_type": "code",
   "execution_count": null,
   "id": "8ceb8a7e",
   "metadata": {},
   "outputs": [],
   "source": [
    "#Read config.ini file\n",
    "config = ConfigParser()\n",
    "config.read(\"config.ini\")\n",
    "dataset_info = config[\"DATASETS\"]\n",
    "fm_data_path = dataset_info['fm_path']\n",
    "rf_data_path = dataset_info['rf_path']\n",
    "train_set_filename = dataset_info['train_filename']\n",
    "test_set_filename = dataset_info['test_filename']\n",
    "description_filename = dataset_info['description_filename']\n",
    "\n",
    "model_info = config[\"MODELS\"]\n",
    "model_path = model_info['model_path']\n",
    "fm_filename = model_info['fm_model_filename']\n",
    "rf_filename = model_info['rf_model_filename']"
   ]
  },
  {
   "cell_type": "markdown",
   "id": "8aa8c18d",
   "metadata": {},
   "source": [
    "### FM Training and Testing"
   ]
  },
  {
   "cell_type": "code",
   "execution_count": null,
   "id": "ceae0f84",
   "metadata": {},
   "outputs": [],
   "source": [
    "train = pickle.load(open(fm_data_path + train_set_filename, 'rb'))\n",
    "test = pickle.load(open(fm_data_path + test_set_filename, 'rb'))\n",
    "X_train = train.drop(['rating'], axis=1)\n",
    "X_test = test.drop(['rating'], axis=1)\n",
    "y_train = train['rating']\n",
    "y_test = test['rating']\n",
    "\n",
    "\n",
    "with open(fm_data_path + description_filename) as f:\n",
    "    meta_data = json.load(f)\n",
    "    group_shapes = [v for k,v in meta_data.items()]"
   ]
  },
  {
   "cell_type": "code",
   "execution_count": null,
   "id": "1443bd04",
   "metadata": {},
   "outputs": [],
   "source": [
    "\n",
    "# callback = MyRegressionCallback(5, X_test, y_test.values)\n",
    "\n",
    "# create parent folder if doesn't exist\n",
    "os.makedirs(model_path, exist_ok=True)\n",
    "\n",
    "# load from pickle dump, if it exists. Otherwise train model and then save/'pickle' it\n",
    "fm_model_path = model_path + fm_filename\n",
    "if exists(fm_model_path):\n",
    "    fm = pickle.load(open(fm_model_path, 'rb'))\n",
    "else:\n",
    "    fm = MyFMRegressor(rank=1).fit(X_train, y_train, n_iter=300, group_shapes=group_shapes)\n",
    "    pickle.dump(fm, open(fm_model_path, 'wb'))\n",
    "\n",
    "fm_error = metrics.mean_squared_error(y_test, fm.predict(X_test), squared=False)\n",
    "print(f'FM Regression error: {fm_error}')\n"
   ]
  },
  {
   "cell_type": "markdown",
   "id": "5f563491",
   "metadata": {},
   "source": [
    "### RF Training and Testing"
   ]
  },
  {
   "cell_type": "code",
   "execution_count": null,
   "id": "9fa1d971",
   "metadata": {},
   "outputs": [],
   "source": [
    "train = pickle.load(open(rf_data_path + train_set_filename, 'rb'))\n",
    "test = pickle.load(open(rf_data_path + test_set_filename, 'rb'))\n",
    "# train = pd.read_csv(rf_data_path + train_set_filename, sep=',', encoding='latin-1', index_col=None, nrows=1000)\n",
    "# test = pd.read_csv(rf_data_path + test_set_filename, sep=',', encoding='latin-1', index_col=None, nrows=1000)\n",
    "X_train = train.drop(['rating'], axis=1)\n",
    "X_test = test.drop(['rating'], axis=1)\n",
    "y_train = train['rating']\n",
    "y_test = test['rating']"
   ]
  },
  {
   "cell_type": "code",
   "execution_count": null,
   "id": "8bbce55d",
   "metadata": {},
   "outputs": [],
   "source": [
    "rf_model_path = model_path + rf_filename\n",
    "if exists(rf_model_path):\n",
    "    rf = pickle.load(open(rf_model_path, 'rb'))\n",
    "else:\n",
    "    rf = RandomForestRegressor(n_estimators = 100, random_state = 42).fit(X_train, y_train)\n",
    "    pickle.dump(rf, open(rf_model_path, 'wb'))\n",
    "\n",
    "rf_error = metrics.mean_squared_error(y_test, rf.predict(X_test), squared=False)\n",
    "print(f'Random Forest error: {rf_error}')\n"
   ]
  },
  {
   "cell_type": "markdown",
   "id": "a9f5edf5",
   "metadata": {},
   "source": [
    "### RF Feature Importance"
   ]
  },
  {
   "cell_type": "code",
   "execution_count": null,
   "id": "bd7c96db",
   "metadata": {},
   "outputs": [],
   "source": [
    "import matplotlib.pyplot as plt\n",
    "\n",
    "# list of column names\n",
    "feature_names = list(X_train.columns)\n",
    "\n",
    "# extract the feature importance values\n",
    "std = np.std([tree.feature_importances_ for tree in rf.estimators_], axis=0)\n",
    "rf_feature_importances = pd.DataFrame(\n",
    "    {\"feature\": feature_names, \"importance\": rf.feature_importances_}\n",
    ")\n",
    "\n",
    "rf_feature_importances.sort_values(\"importance\", ascending=False,inplace=True)\n",
    "\n",
    "# visualize the importance of each feature\n",
    "fig, ax = plt.subplots(figsize=(12,6))\n",
    "rf_feature_importances.plot.bar(x='feature', y='importance', yerr=std, ax=ax, legend=False)\n",
    "ax.set_title(\"Feature importances\")\n",
    "ax.set_ylabel(\"Mean decrease in impurity\")\n",
    "fig.tight_layout()"
   ]
  }
 ],
 "metadata": {
  "kernelspec": {
   "display_name": "Python 3",
   "language": "python",
   "name": "python3"
  },
  "language_info": {
   "codemirror_mode": {
    "name": "ipython",
    "version": 3
   },
   "file_extension": ".py",
   "mimetype": "text/x-python",
   "name": "python",
   "nbconvert_exporter": "python",
   "pygments_lexer": "ipython3",
   "version": "3.8.8"
  }
 },
 "nbformat": 4,
 "nbformat_minor": 5
}
