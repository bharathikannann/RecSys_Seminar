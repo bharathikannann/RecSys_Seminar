{
 "cells": [
  {
   "cell_type": "code",
   "execution_count": 58,
   "id": "e902bd15",
   "metadata": {},
   "outputs": [],
   "source": [
    "from sklearn import metrics\n",
    "from sklearn.ensemble import RandomForestRegressor\n",
    "import pandas as pd\n",
    "from configparser import ConfigParser\n",
    "import json\n",
    "import os\n",
    "from os.path import exists\n",
    "import pickle\n",
    "import numpy as np\n",
    "\n",
    "from myfm import MyFMRegressor\n",
    "# from myfm.utils.callbacks import RegressionCallback\n",
    "\n",
    "# class MyRegressionCallback(RegressionCallback):\n",
    "#     def __call__(self, i, fm, hyper, history):\n",
    "#         should_stop, description = super(MyRegressionCallback, self).__call__(i, fm, hyper, history)\n",
    "#         trace_result = self.result_trace[-1]\n",
    "#         if len(self.result_trace) > 8:\n",
    "#             for index in range(8):\n",
    "#                 old_trace_result = self.result_trace[-(index + 1)]\n",
    "#                 if abs(old_trace_result['rmse'] - trace_result['rmse']) > 0.0001:\n",
    "#                     return (should_stop, description)\n",
    "#             return (True, description)\n",
    "#         return (should_stop, description)"
   ]
  },
  {
   "cell_type": "code",
   "execution_count": 59,
   "id": "fd112f8a",
   "metadata": {},
   "outputs": [],
   "source": [
    "#Read config.ini file\n",
    "config = ConfigParser()\n",
    "config.read(\"config.ini\")\n",
    "dataset_info = config[\"DATASETS\"]\n",
    "fm_data_path = dataset_info['fm_path']\n",
    "rf_data_path = dataset_info['rf_path']\n",
    "train_set_filename = dataset_info['train_filename']\n",
    "test_set_filename = dataset_info['test_filename']\n",
    "description_filename = dataset_info['description_filename']\n",
    "\n",
    "model_info = config[\"MODELS\"]\n",
    "model_path = model_info['model_path']\n",
    "fm_filename = model_info['fm_model_filename']\n",
    "rf_filename = model_info['rf_model_filename']\n",
    "\n",
    "fs_info = config[\"FEATURE_SELECTION\"]\n",
    "fs_fm_path = fs_info['fs_fm_path']\n",
    "fs_rf_path = fs_info['fs_rf_path']\n",
    "\n",
    "results_info = config[\"RESULTS\"]\n",
    "results_path = results_info['results_path']\n",
    "results_fm_filename = results_info['results_fm_filename']\n",
    "results_rf_filename = results_info['results_rf_filename']"
   ]
  },
  {
   "cell_type": "code",
   "execution_count": 60,
   "id": "8226ed5f",
   "metadata": {},
   "outputs": [],
   "source": [
    "def load_ori_data(path):\n",
    "    train = pickle.load(open(path + train_set_filename, 'rb'))\n",
    "    test = pickle.load(open(path + test_set_filename, 'rb'))\n",
    "    \n",
    "#     train = train[:100]\n",
    "#     test = test[:100]\n",
    "    \n",
    "    X_train = train.drop(['rating'], axis=1)\n",
    "    X_test = test.drop(['rating'], axis=1)\n",
    "    y_train = train['rating']\n",
    "    y_test = test['rating']\n",
    "    return X_train, X_test, y_train, y_test"
   ]
  },
  {
   "cell_type": "code",
   "execution_count": 61,
   "id": "d4d0b06e",
   "metadata": {},
   "outputs": [],
   "source": [
    "def recalculate_group_shapes(cols_to_keep):\n",
    "    with open(fm_data_path + description_filename) as f:\n",
    "        meta_data = json.load(f)\n",
    "        # group_shapes = [v for k,v in meta_data.items()]\n",
    "    movie_genres = ['unknown','Action','Adventure','Animation',\"Children's\",'Comedy','Crime','Documentary',\n",
    "                    'Drama','Fantasy','Film-Noir','Horror','Musical','Mystery','Romance','Sci-Fi','Thriller',\n",
    "                    'War','Western']\n",
    "    for col, _ in meta_data.items():\n",
    "        if (col != 'movie_id' and col != 'user_id'):\n",
    "            meta_data[col] = 0\n",
    "    for col_name in cols_to_keep:\n",
    "        if col_name in movie_genres:\n",
    "            meta_data['genre'] += 1\n",
    "        else:\n",
    "            for prefix, _ in meta_data.items():\n",
    "                if prefix in col_name:\n",
    "                    meta_data[prefix] += 1\n",
    "    to_delete = []\n",
    "    for col, val in meta_data.items():\n",
    "        if val == 0:\n",
    "            to_delete.append(col)\n",
    "    for col in to_delete:\n",
    "        del meta_data[col]\n",
    "    temp =  [v for k,v in meta_data.items()]\n",
    "    print(temp)\n",
    "    return temp\n"
   ]
  },
  {
   "cell_type": "code",
   "execution_count": 62,
   "id": "0708e0b2",
   "metadata": {},
   "outputs": [],
   "source": [
    "def fm_train_and_test(fs_method, X_train, y_train, X_test, y_test, group_shapes):\n",
    "    fm = MyFMRegressor(rank=1).fit(X_train, y_train, n_iter=200)\n",
    "    fm_error = (metrics.mean_squared_error(y_test, fm.predict(X_test), squared=False) ** 0.5)\n",
    "    # create parent folder if doesn't exist\n",
    "    os.makedirs(results_path, exist_ok=True)\n",
    "    with open(results_path + results_fm_filename, \"a\") as f:\n",
    "        f.write(fs_method + \": \" + str(fm_error) + \"\\n\")\n",
    "    # print(f'FM Regression error: {fm_error}')"
   ]
  },
  {
   "cell_type": "code",
   "execution_count": 63,
   "id": "3a67a10f",
   "metadata": {},
   "outputs": [],
   "source": [
    "def rf_train_and_test(fs_method, X_train, y_train, X_test, y_test):\n",
    "    rf = RandomForestRegressor(n_estimators = 100, random_state = 42).fit(X_train, y_train)\n",
    "    rf_error = metrics.mean_squared_error(y_test, rf.predict(X_test), squared=False)\n",
    "    os.makedirs(results_path, exist_ok=True)\n",
    "    with open(results_path + results_rf_filename, \"a\") as f:\n",
    "        f.write(fs_method + \": \" + str(rf_error) + \"\\n\")\n",
    "    # print(f'Random Forest error: {rf_error}')\n"
   ]
  },
  {
   "cell_type": "code",
   "execution_count": 64,
   "id": "ecbb63f4",
   "metadata": {},
   "outputs": [],
   "source": [
    "def use_fs_for_fm(fs_method):\n",
    "    X_train, X_test, y_train, y_test = load_ori_data(fm_data_path)\n",
    "    with open(fs_fm_path + fs_method) as f:\n",
    "        fs = json.load(f)\n",
    "        total_cols_to_keep = fs['k']\n",
    "        cols_to_keep = fs['columns']\n",
    "        importances = fs['importances']\n",
    "        if total_cols_to_keep == None:\n",
    "            total_cols_to_keep = 10\n",
    "    final_cols_to_keep = [col for col in X_train.columns if 'movie_id' in col or 'user_id' in col]\n",
    "    final_cols_to_keep.extend(cols_to_keep[:total_cols_to_keep])\n",
    "\n",
    "    # dropping the columns specified by the fs method\n",
    "    X_train = X_train[final_cols_to_keep]\n",
    "    X_test = X_test[final_cols_to_keep]\n",
    "    group_shapes = recalculate_group_shapes(cols_to_keep)\n",
    "    fm_train_and_test(fs_method, X_train, y_train, X_test, y_test, group_shapes)"
   ]
  },
  {
   "cell_type": "code",
   "execution_count": 65,
   "id": "605f4e60",
   "metadata": {},
   "outputs": [],
   "source": [
    "def use_fs_for_rf(fs_method):\n",
    "    X_train, X_test, y_train, y_test = load_ori_data(rf_data_path)\n",
    "    with open(fs_rf_path + fs_method) as f:\n",
    "        fs = json.load(f)\n",
    "        total_cols_to_keep = fs['k']\n",
    "        cols_to_keep = fs['columns']\n",
    "        importances = fs['importances']\n",
    "        if total_cols_to_keep == None:\n",
    "            total_cols_to_keep = 10\n",
    "    final_cols_to_keep = [col for col in X_train.columns if 'movie_id' in col or 'user_id' in col]\n",
    "    final_cols_to_keep.extend(cols_to_keep[:total_cols_to_keep])\n",
    "\n",
    "    # dropping the columns specified by the fs method\n",
    "    X_train = X_train[final_cols_to_keep]\n",
    "    X_test = X_test[final_cols_to_keep]\n",
    "    rf_train_and_test(fs_method, X_train, y_train, X_test, y_test)"
   ]
  },
  {
   "cell_type": "code",
   "execution_count": 66,
   "id": "21ea9141",
   "metadata": {},
   "outputs": [
    {
     "name": "stdout",
     "output_type": "stream",
     "text": [
      "[1681, 943, 192, 167, 16, 6, 21, 577, 18, 1, 1, 2]\n"
     ]
    },
    {
     "name": "stderr",
     "output_type": "stream",
     "text": [
      "alpha = 1.33 w0 = 2.05 : 100%|███████████████████████████████████████████████████████| 200/200 [00:02<00:00, 80.14it/s]\n"
     ]
    }
   ],
   "source": [
    "# and 'movie_id' not in col and 'user_id' not in col loop for FM\n",
    "for fs_method in os.listdir(fs_fm_path):\n",
    "    use_fs_for_fm(fs_method)"
   ]
  },
  {
   "cell_type": "code",
   "execution_count": null,
   "id": "0eed436b",
   "metadata": {},
   "outputs": [],
   "source": [
    "# loop for RF\n",
    "for fs_method in os.listdir(fs_rf_path):\n",
    "    use_fs_for_rf(fs_method)\n"
   ]
  },
  {
   "cell_type": "markdown",
   "id": "52fdebbc",
   "metadata": {},
   "source": [
    "### FM Training and Testing"
   ]
  },
  {
   "cell_type": "code",
   "execution_count": 3,
   "id": "886ab2a8",
   "metadata": {},
   "outputs": [],
   "source": [
    "train = pickle.load(open(fm_data_path + train_set_filename, 'rb'))\n",
    "test = pickle.load(open(fm_data_path + test_set_filename, 'rb'))\n",
    "X_train = train.drop(['rating'], axis=1)\n",
    "X_test = test.drop(['rating'], axis=1)\n",
    "y_train = train['rating']\n",
    "y_test = test['rating']\n",
    "\n",
    "\n",
    "with open(fm_data_path + description_filename) as f:\n",
    "    meta_data = json.load(f)\n",
    "    group_shapes = [v for k,v in meta_data.items()]"
   ]
  },
  {
   "cell_type": "code",
   "execution_count": null,
   "id": "7bbad040",
   "metadata": {},
   "outputs": [],
   "source": [
    "\n",
    "# callback = MyRegressionCallback(5, X_test, y_test.values)\n",
    "\n",
    "# create parent folder if doesn't exist\n",
    "os.makedirs(model_path, exist_ok=True)\n",
    "\n",
    "# load from pickle dump, if it exists. Otherwise train model and then save/'pickle' it\n",
    "fm_model_path = model_path + fm_filename\n",
    "if exists(fm_model_path):\n",
    "    fm = pickle.load(open(fm_model_path, 'rb'))\n",
    "else:\n",
    "    fm = MyFMRegressor(rank=1).fit(X_train, y_train, n_iter=300, group_shapes=group_shapes)\n",
    "    pickle.dump(fm, open(fm_model_path, 'wb'))\n",
    "\n",
    "fm_error = metrics.mean_squared_error(y_test, fm.predict(X_test), squared=False)\n",
    "print(f'FM Regression error: {fm_error}')\n"
   ]
  },
  {
   "cell_type": "markdown",
   "id": "293d00c6",
   "metadata": {},
   "source": [
    "### RF Training and Testing"
   ]
  },
  {
   "cell_type": "code",
   "execution_count": null,
   "id": "a748321e",
   "metadata": {},
   "outputs": [],
   "source": [
    "train = pickle.load(open(rf_data_path + train_set_filename, 'rb'))\n",
    "test = pickle.load(open(rf_data_path + test_set_filename, 'rb'))\n",
    "# train = pd.read_csv(rf_data_path + train_set_filename, sep=',', encoding='latin-1', index_col=None, nrows=1000)\n",
    "# test = pd.read_csv(rf_data_path + test_set_filename, sep=',', encoding='latin-1', index_col=None, nrows=1000)\n",
    "X_train = train.drop(['rating'], axis=1)\n",
    "X_test = test.drop(['rating'], axis=1)\n",
    "y_train = train['rating']\n",
    "y_test = test['rating']"
   ]
  },
  {
   "cell_type": "code",
   "execution_count": null,
   "id": "c3b30a60",
   "metadata": {},
   "outputs": [],
   "source": [
    "rf_model_path = model_path + rf_filename\n",
    "if exists(rf_model_path):\n",
    "    rf = pickle.load(open(rf_model_path, 'rb'))\n",
    "else:\n",
    "    rf = RandomForestRegressor(n_estimators = 100, random_state = 42).fit(X_train, y_train)\n",
    "    pickle.dump(rf, open(rf_model_path, 'wb'))\n",
    "\n",
    "rf_error = metrics.mean_squared_error(y_test, rf.predict(X_test), squared=False)\n",
    "print(f'Random Forest error: {rf_error}')\n"
   ]
  },
  {
   "cell_type": "markdown",
   "id": "2627e3b9",
   "metadata": {},
   "source": [
    "### RF Feature Importance"
   ]
  },
  {
   "cell_type": "code",
   "execution_count": null,
   "id": "a1e8736c",
   "metadata": {},
   "outputs": [],
   "source": [
    "import matplotlib.pyplot as plt\n",
    "\n",
    "# list of column names\n",
    "feature_names = list(X_train.columns)\n",
    "\n",
    "# extract the feature importance values\n",
    "std = np.std([tree.feature_importances_ for tree in rf.estimators_], axis=0)\n",
    "rf_feature_importances = pd.DataFrame(\n",
    "    {\"feature\": feature_names, \"importance\": rf.feature_importances_}\n",
    ")\n",
    "\n",
    "rf_feature_importances.sort_values(\"importance\", ascending=False,inplace=True)\n",
    "\n",
    "# visualize the importance of each feature\n",
    "fig, ax = plt.subplots(figsize=(12,6))\n",
    "rf_feature_importances.plot.bar(x='feature', y='importance', yerr=std, ax=ax, legend=False)\n",
    "ax.set_title(\"Feature importances\")\n",
    "ax.set_ylabel(\"Mean decrease in impurity\")\n",
    "fig.tight_layout()"
   ]
  }
 ],
 "metadata": {
  "kernelspec": {
   "display_name": "Python 3",
   "language": "python",
   "name": "python3"
  },
  "language_info": {
   "codemirror_mode": {
    "name": "ipython",
    "version": 3
   },
   "file_extension": ".py",
   "mimetype": "text/x-python",
   "name": "python",
   "nbconvert_exporter": "python",
   "pygments_lexer": "ipython3",
   "version": "3.8.8"
  }
 },
 "nbformat": 4,
 "nbformat_minor": 5
}
