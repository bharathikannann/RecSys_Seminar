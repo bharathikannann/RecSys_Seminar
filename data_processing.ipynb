{
 "cells": [
  {
   "cell_type": "code",
   "execution_count": 1,
   "id": "95a01cd6",
   "metadata": {},
   "outputs": [],
   "source": [
    "import numpy as np\n",
    "import pandas as pd\n",
    "import matplotlib.pyplot as plt\n",
    "from sklearn.preprocessing import OneHotEncoder"
   ]
  },
  {
   "cell_type": "code",
   "execution_count": 2,
   "id": "cb870f9e",
   "metadata": {},
   "outputs": [
    {
     "name": "stdout",
     "output_type": "stream",
     "text": [
      "(100000, 31)\n",
      "Index(['movie_id', 'movie_title', 'release_date', 'video_release_date',\n",
      "       'imdb_url', 'unknown', 'Action', 'Adventure', 'Animation', 'Children's',\n",
      "       'Comedy', 'Crime', 'Documentary', 'Drama', 'Fantasy', 'Film-Noir',\n",
      "       'Horror', 'Musical', 'Mystery', 'Romance', 'Sci-Fi', 'Thriller', 'War',\n",
      "       'Western', 'user_id', 'rating', 'unix_timestamp', 'age', 'sex',\n",
      "       'occupation', 'zip_code'],\n",
      "      dtype='object')\n"
     ]
    }
   ],
   "source": [
    "u_cols = ['user_id', 'age', 'sex', 'occupation', 'zip_code']\n",
    "users = pd.read_csv('ml-100k/u.user', sep='|', names=u_cols, encoding='latin-1', parse_dates=True)\n",
    "\n",
    "r_cols = ['user_id', 'movie_id', 'rating', 'unix_timestamp']\n",
    "ratings = pd.read_csv('ml-100k/u.data', sep='\\t', names=r_cols, encoding='latin-1')\n",
    "\n",
    "m_cols = ['movie_id', 'movie_title', 'release_date', 'video_release_date','imdb_url', 'unknown', 'Action' , 'Adventure' , 'Animation', \"Children's\" , 'Comedy' , 'Crime' , 'Documentary' , 'Drama' , 'Fantasy', \"Film-Noir\" , \"Horror\" , \"Musical\" , \"Mystery\" , \"Romance\" , \"Sci-Fi\" ,\"Thriller\" , \"War\" , \"Western\" ]\n",
    "movies = pd.read_csv('ml-100k/u.item', sep='|', names=m_cols, usecols=range(24), encoding='latin-1')\n",
    "\n",
    "movie_ratings = pd.merge(movies, ratings)\n",
    "df = pd.merge(movie_ratings, users)\n",
    "\n",
    "print(df.shape)\n",
    "print(df.columns)"
   ]
  },
  {
   "cell_type": "code",
   "execution_count": 3,
   "id": "88320b69",
   "metadata": {},
   "outputs": [],
   "source": [
    "# drop columns video_release_date, imdb_url\n",
    "df.drop(\"video_release_date\", axis = 1, inplace = True)\n",
    "df.drop(\"imdb_url\", axis = 1, inplace = True)\n",
    "df.drop('movie_title', axis = 1, inplace = True)"
   ]
  },
  {
   "cell_type": "code",
   "execution_count": 4,
   "id": "1e79dc04",
   "metadata": {},
   "outputs": [],
   "source": [
    "# drop rows where release_date is NaN\n",
    "df.drop(index = df[df['release_date'].isnull()].index, inplace = True)"
   ]
  },
  {
   "cell_type": "code",
   "execution_count": 5,
   "id": "9cf70522",
   "metadata": {},
   "outputs": [],
   "source": [
    "# bin age\n",
    "df['age'] = pd.cut(df['age'], np.arange(0,90,10))"
   ]
  },
  {
   "cell_type": "code",
   "execution_count": 6,
   "id": "24da876d",
   "metadata": {},
   "outputs": [],
   "source": [
    "# format zip_code\n",
    "df['zip_code'] = df['zip_code'].str[0]"
   ]
  },
  {
   "cell_type": "code",
   "execution_count": 7,
   "id": "fc432761",
   "metadata": {},
   "outputs": [],
   "source": [
    "# format release_date\n",
    "import calendar\n",
    "import datetime\n",
    "\n",
    "def date_to_unix(data):\n",
    "    arr = list()\n",
    "    for i,l in enumerate(data):\n",
    "        if ord(l) == 45:\n",
    "            arr.append(i)\n",
    "    date = int(data[0:arr[0]])\n",
    "    month_name = data[arr[0]+1:arr[1]]\n",
    "    datetime_object = datetime.datetime.strptime(month_name, \"%b\")\n",
    "    month = datetime_object.month\n",
    "    year = int(data[arr[1]+1:arr[1]+5])\n",
    "    date = datetime.datetime(year, month, date, 0, 0)\n",
    "    utc_time = calendar.timegm(date.utctimetuple())\n",
    "    return(utc_time)\n",
    "\n",
    "df['release_date'] = df['release_date'].apply(date_to_unix)"
   ]
  },
  {
   "cell_type": "code",
   "execution_count": 8,
   "id": "79b27f0b",
   "metadata": {},
   "outputs": [],
   "source": [
    "# get mean_rating"
   ]
  },
  {
   "cell_type": "code",
   "execution_count": 9,
   "id": "c88efcdd",
   "metadata": {},
   "outputs": [],
   "source": [
    "## Start to set up df_training and df_testing\n",
    "\n",
    "df_testing = df[['rating']]\n",
    "df_training = pd.DataFrame()\n",
    "group_shapes = []"
   ]
  },
  {
   "cell_type": "code",
   "execution_count": 10,
   "id": "7442853a",
   "metadata": {},
   "outputs": [],
   "source": [
    "# First, ohe movie_id, user_id, sex, age, occupation\n",
    "ohe_columns = ['user_id', 'movie_id', 'sex', 'age', 'occupation', 'zip_code']\n",
    "for column in ohe_columns:\n",
    "    df_ohe = pd.get_dummies(df[column], prefix=column)\n",
    "    df_training = pd.concat([df_training, df_ohe], axis=1, ignore_index=True)\n",
    "    group_shapes.append(len(df_ohe.columns))\n"
   ]
  },
  {
   "cell_type": "code",
   "execution_count": 11,
   "id": "479bffd5",
   "metadata": {},
   "outputs": [],
   "source": [
    "# Handle the genre field, which is already ohe\n",
    "genre_columns = ['unknown', 'Action' , 'Adventure' , 'Animation', \"Children's\" , 'Comedy' , 'Crime' , 'Documentary' , 'Drama' , 'Fantasy', \"Film-Noir\" , \"Horror\" , \"Musical\" , \"Mystery\" , \"Romance\" , \"Sci-Fi\" ,\"Thriller\" , \"War\" , \"Western\"]\n",
    "df_training = pd.concat([df_training, df[genre_columns]], axis=1, ignore_index=True)\n",
    "group_shapes.append(len(genre_columns))\n"
   ]
  },
  {
   "cell_type": "code",
   "execution_count": 12,
   "id": "d08d5867",
   "metadata": {},
   "outputs": [],
   "source": [
    "# Then append the non-ohe columns\n",
    "# Wait. For some reason, the algorithm performs really badly when these columns are included. Exclude them for now.\n",
    "# non_ohe_columns = df.loc[:, ~df.columns.isin(ohe_columns + genre_columns + ['rating'])].columns.tolist()\n",
    "# df_training = pd.concat([df_training, df[non_ohe_columns]], axis=1, ignore_index=True)\n",
    "# group_shapes.extend([1 for column in non_ohe_columns])\n"
   ]
  },
  {
   "cell_type": "code",
   "execution_count": 13,
   "id": "8f2f2066",
   "metadata": {},
   "outputs": [
    {
     "name": "stdout",
     "output_type": "stream",
     "text": [
      "(99991, 2693)\n",
      "(99991, 1)\n",
      "[943, 1681, 2, 8, 21, 19, 19]\n"
     ]
    }
   ],
   "source": [
    "print(df_training.shape)\n",
    "print(df_testing.shape)\n",
    "print(group_shapes)"
   ]
  },
  {
   "cell_type": "code",
   "execution_count": 14,
   "id": "d8446641",
   "metadata": {},
   "outputs": [],
   "source": [
    "# Save group_shapes to file\n",
    "np.savetxt(\"group_shapes\", \n",
    "           group_shapes,\n",
    "           delimiter =\", \", \n",
    "           fmt ='% s')"
   ]
  },
  {
   "cell_type": "code",
   "execution_count": 15,
   "id": "b15dc0af",
   "metadata": {},
   "outputs": [],
   "source": [
    "# Save df_training and df_testing to file\n",
    "df_training.to_csv('x_data', header=False, index=False)\n",
    "df_testing.to_csv('y_data', header=False, index=False)"
   ]
  }
 ],
 "metadata": {
  "kernelspec": {
   "display_name": "Python 3 (ipykernel)",
   "language": "python",
   "name": "python3"
  },
  "language_info": {
   "codemirror_mode": {
    "name": "ipython",
    "version": 3
   },
   "file_extension": ".py",
   "mimetype": "text/x-python",
   "name": "python",
   "nbconvert_exporter": "python",
   "pygments_lexer": "ipython3",
   "version": "3.8.10"
  }
 },
 "nbformat": 4,
 "nbformat_minor": 5
}
