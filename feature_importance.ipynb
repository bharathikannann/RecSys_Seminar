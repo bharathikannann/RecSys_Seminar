{
 "cells": [
  {
   "cell_type": "code",
   "execution_count": null,
   "id": "663db204",
   "metadata": {},
   "outputs": [],
   "source": [
    "# import libraries\n",
    "import numpy as np\n",
    "import pandas as pd\n",
    "import matplotlib.pyplot as plt\n",
    "import seaborn as sns\n",
    "import pickle\n",
    "import time\n",
    "from configparser import ConfigParser\n",
    "import os\n",
    "import json\n",
    "\n",
    "from sklearn.metrics import accuracy_score, confusion_matrix"
   ]
  },
  {
   "cell_type": "code",
   "execution_count": null,
   "id": "1071661c",
   "metadata": {},
   "outputs": [],
   "source": [
    "#Read config.ini file\n",
    "config = ConfigParser()\n",
    "config.read(\"config.ini\")\n",
    "dataset_info = config[\"DATASETS\"]\n",
    "fm_data_path = dataset_info['fm_path']\n",
    "rf_data_path = dataset_info['rf_path']\n",
    "train_set_filename = dataset_info['train_filename']\n",
    "test_set_filename = dataset_info['test_filename']\n",
    "description_filename = dataset_info['description_filename']\n",
    "\n",
    "model_info = config[\"MODELS\"]\n",
    "model_path = model_info['model_path']\n",
    "fm_filename = model_info['fm_model_filename']\n",
    "rf_filename = model_info['rf_model_filename']\n",
    "\n",
    "fs_info = config[\"FEATURE_SELECTION\"]\n",
    "fs_fm_path = fs_info['fs_fm_path']\n",
    "fs_rf_path = fs_info['fs_rf_path']\n",
    "\n",
    "path = dataset_info['ori_path']\n",
    "genre_cols = pd.read_csv(path + 'ml-100k/u.genre', sep='|', header=None)[0].to_numpy().tolist()"
   ]
  },
  {
   "cell_type": "markdown",
   "id": "a5bc3b12",
   "metadata": {},
   "source": [
    "> **_Important:_**  Create a new heading for the model, and also be unique with variable names.  \n",
    "\n",
    "### NOTES:\n",
    "- Save final outputs in this format: \n",
    "    \n",
    "```python\n",
    "    x_final_dict = {\n",
    "        \"k\": None,\n",
    "        \"columns\": [], # list type\n",
    "        \"importances\": [], # list type, in percentage, and should be sorted\n",
    "    }\n",
    "```\n",
    "- x - your model name\n",
    "- columns length must be same as importances length\n",
    "- importances must be in descending order, and columns should follow accordingly\n",
    "- Remember to exclude all movie_id and user_id columns before doing feature selection (optional and experiment with this one)\n",
    "\n",
    "### Then follow this format to save dictionary to json\n",
    "\n",
    "- Follow filename format (pay attention to - and _): model-name_k.json\n",
    "    - k - if you have any k values or just model_name"
   ]
  },
  {
   "cell_type": "code",
   "execution_count": null,
   "id": "5f1d4b71",
   "metadata": {},
   "outputs": [],
   "source": [
    "# create parent folder if doesn't exist\n",
    "os.makedirs(fs_rf_path, exist_ok=True)"
   ]
  },
  {
   "cell_type": "code",
   "execution_count": null,
   "id": "156f1235",
   "metadata": {},
   "outputs": [],
   "source": [
    "train = pickle.load(open(fm_data_path + train_set_filename, 'rb'))\n",
    "test = pickle.load(open(fm_data_path + test_set_filename, 'rb'))"
   ]
  },
  {
   "cell_type": "markdown",
   "id": "b6f76c47",
   "metadata": {},
   "source": [
    "## Training data"
   ]
  },
  {
   "cell_type": "code",
   "execution_count": null,
   "id": "0adb634a",
   "metadata": {},
   "outputs": [],
   "source": [
    "X = train.drop((['rating']), axis = 1)\n",
    "y = train['rating']"
   ]
  },
  {
   "cell_type": "code",
   "execution_count": null,
   "id": "d88d3a6c",
   "metadata": {},
   "outputs": [],
   "source": [
    "# Save for later reference, can be removed after all experiments\n",
    "X_original = X.copy(deep = True)"
   ]
  },
  {
   "cell_type": "markdown",
   "id": "75e3e9b4",
   "metadata": {},
   "source": [
    "## Test data"
   ]
  },
  {
   "cell_type": "code",
   "execution_count": null,
   "id": "e8fa9f86",
   "metadata": {},
   "outputs": [],
   "source": [
    "X_test = test.drop((['rating']), axis = 1)\n",
    "y_test = test['rating']"
   ]
  },
  {
   "cell_type": "markdown",
   "id": "f00e5d67",
   "metadata": {},
   "source": [
    "---\n",
    "## FM Experiments"
   ]
  },
  {
   "cell_type": "code",
   "execution_count": null,
   "id": "fb68982c",
   "metadata": {},
   "outputs": [],
   "source": [
    "X.drop(X.filter(regex='movie_id').columns, axis=1, inplace=True)\n",
    "X.drop(X.filter(regex='user_id').columns, axis=1, inplace=True)"
   ]
  },
  {
   "cell_type": "code",
   "execution_count": null,
   "id": "9c1ca759",
   "metadata": {},
   "outputs": [],
   "source": [
    "X_test.drop(X_test.filter(regex='movie_id').columns, axis=1, inplace=True)\n",
    "X_test.drop(X_test.filter(regex='user_id').columns, axis=1, inplace=True)"
   ]
  },
  {
   "cell_type": "markdown",
   "id": "25aacb17",
   "metadata": {},
   "source": [
    "---\n",
    "# 1. Feature Importance\n",
    "# 1.1 Feature importance using Random Forest"
   ]
  },
  {
   "cell_type": "code",
   "execution_count": null,
   "id": "2c9e4298",
   "metadata": {},
   "outputs": [],
   "source": [
    "from sklearn.ensemble import RandomForestClassifier"
   ]
  },
  {
   "cell_type": "code",
   "execution_count": null,
   "id": "7c5da4aa",
   "metadata": {},
   "outputs": [],
   "source": [
    "# initialize and fit the model\n",
    "forest = RandomForestClassifier(n_estimators=100)\n",
    "forest.fit(X, y)"
   ]
  },
  {
   "cell_type": "markdown",
   "id": "53c77c80",
   "metadata": {},
   "source": [
    "### Testing the model"
   ]
  },
  {
   "cell_type": "code",
   "execution_count": null,
   "id": "9c5f8104",
   "metadata": {},
   "outputs": [],
   "source": [
    "y_pred = forest.predict(X_test)\n",
    "accuracy_score(y_test, y_pred) * 100\n",
    "# confusion_matrix(y_test, y_pred)"
   ]
  },
  {
   "cell_type": "code",
   "execution_count": null,
   "id": "dc42d0cf",
   "metadata": {},
   "outputs": [],
   "source": [
    "from sklearn import metrics\n",
    "print('Mean Absolute Error:', metrics.mean_absolute_error(y_test, y_pred))  \n",
    "print('Mean Squared Error:', metrics.mean_squared_error(y_test, y_pred))  \n",
    "print('Root Mean Squared Error:', np.sqrt(metrics.mean_squared_error(y_test, y_pred)))"
   ]
  },
  {
   "cell_type": "code",
   "execution_count": null,
   "id": "5deda744",
   "metadata": {},
   "outputs": [],
   "source": [
    "# list of column names\n",
    "feature_names = list(X.columns)\n",
    "\n",
    "# extract the feature importance values\n",
    "std = np.std([tree.feature_importances_ for tree in forest.estimators_], axis=0)\n",
    "rf_feature_importances = pd.DataFrame(\n",
    "    {\"feature\": feature_names, \"importance\": forest.feature_importances_}\n",
    ")"
   ]
  },
  {
   "cell_type": "code",
   "execution_count": null,
   "id": "38b59fed",
   "metadata": {},
   "outputs": [],
   "source": [
    "# giving colors for all genre for better visualization, optional\n",
    "# my_colors = ['blue','green']\n",
    "# my_colors.extend(['orange']*19)\n",
    "# my_colors.extend(['brown','pink','gray','olive','cyan','aquamarine','gold','gold'])\n",
    "# feature_importances_df['info'] = my_colors"
   ]
  },
  {
   "cell_type": "code",
   "execution_count": null,
   "id": "d740e3c0",
   "metadata": {},
   "outputs": [],
   "source": [
    "rf_feature_importances.sort_values(\"importance\", ascending=False,inplace=True)"
   ]
  },
  {
   "cell_type": "code",
   "execution_count": null,
   "id": "9e43a52e",
   "metadata": {},
   "outputs": [],
   "source": [
    "rf_feature_importances[rf_feature_importances['importance']  > 0.0005]"
   ]
  },
  {
   "cell_type": "code",
   "execution_count": null,
   "id": "445362d4",
   "metadata": {},
   "outputs": [],
   "source": [
    "# Converting the importances to percentage\n",
    "# rf_feature_importances['importance'] = rf_feature_importances['importance'] * 100"
   ]
  },
  {
   "cell_type": "code",
   "execution_count": null,
   "id": "d4b98e8f",
   "metadata": {},
   "outputs": [],
   "source": [
    "rf_final_dict = {\n",
    "    \"k\": None,\n",
    "    \"columns\": rf_feature_importances['feature'][:1000].tolist(),\n",
    "    \"importances\": rf_feature_importances['importance'][:1000].tolist(),\n",
    "}"
   ]
  },
  {
   "cell_type": "code",
   "execution_count": null,
   "id": "07472953",
   "metadata": {},
   "outputs": [],
   "source": [
    "with open(fs_fm_path + \"random-forest-feature-importance.json\", \"w\") as fp:\n",
    "    json.dump(rf_final_dict, fp) "
   ]
  },
  {
   "cell_type": "code",
   "execution_count": null,
   "id": "0f0ce204",
   "metadata": {},
   "outputs": [],
   "source": [
    "# Get the sum of all importances\n",
    "s = 0\n",
    "for i in rf_feature_importances['feature']:\n",
    "    if i in genre_cols:\n",
    "        s = s + rf_feature_importances[rf_feature_importances['feature'] == i]['importance'].values[0]"
   ]
  },
  {
   "cell_type": "code",
   "execution_count": null,
   "id": "df13fb0a",
   "metadata": {},
   "outputs": [],
   "source": [
    "rf_feature_importances_modified_genre = rf_feature_importances.copy(deep=True)\n",
    "# modifying index to locate easily\n",
    "rf_feature_importances_modified_genre.index = rf_feature_importances_modified_genre['feature']\n",
    "# Dropping all genre columns\n",
    "rf_feature_importances_modified_genre.drop(genre_cols, inplace = True, axis = 0)\n",
    "# Adding the combined genre column\n",
    "rf_feature_importances_modified_genre.loc['genre'] = ['genre',s]\n",
    "# Sorting again\n",
    "rf_feature_importances_modified_genre.sort_values(\"importance\", ascending=False,inplace=True)"
   ]
  },
  {
   "cell_type": "code",
   "execution_count": null,
   "id": "5ab17366",
   "metadata": {},
   "outputs": [],
   "source": [
    "# Visualization is nice to have, but not necessary\n",
    "# visualize the importance of each feature\n",
    "fig, ax = plt.subplots(figsize=(12,6))\n",
    "# ax.set_ylim([0, 30])\n",
    "rf_feature_importances.plot.bar(x='feature', y='importance', ax=ax, legend=False, stacked = True)\n",
    "ax.set_title(\"Feature importances\")\n",
    "ax.set_ylabel(\"Importance in %\")\n",
    "fig.tight_layout()"
   ]
  },
  {
   "cell_type": "code",
   "execution_count": null,
   "id": "3872a946",
   "metadata": {},
   "outputs": [],
   "source": [
    "# Visualization is nice to have, but not necessary\n",
    "# visualize the importance of each feature, genre combined\n",
    "fig, ax = plt.subplots(figsize=(5,6))\n",
    "# ax.set_ylim([0, 30])\n",
    "rf_feature_importances_modified_genre.plot.bar(x='feature', y='importance', ax=ax, legend=False, stacked = True)\n",
    "ax.set_title(\"Feature importances\")\n",
    "ax.set_ylabel(\"Importance in %\")\n",
    "fig.tight_layout()"
   ]
  },
  {
   "cell_type": "markdown",
   "id": "fcad9fa1",
   "metadata": {},
   "source": [
    "---\n",
    "\n",
    "# 1. 2. Extra Tree Cassifier"
   ]
  },
  {
   "cell_type": "code",
   "execution_count": null,
   "id": "c0c6a768",
   "metadata": {
    "lines_to_next_cell": 0
   },
   "outputs": [],
   "source": [
    "from sklearn.ensemble import ExtraTreesClassifier"
   ]
  },
  {
   "cell_type": "code",
   "execution_count": null,
   "id": "d20445c3",
   "metadata": {},
   "outputs": [],
   "source": [
    "extra_tree = ExtraTreesClassifier()\n",
    "extra_tree.fit(X,y)"
   ]
  },
  {
   "cell_type": "code",
   "execution_count": null,
   "id": "208985a1",
   "metadata": {},
   "outputs": [],
   "source": [
    "# extract the feature importance values\n",
    "std = np.std([tree.feature_importances_ for tree in extra_tree.estimators_], axis=0)\n",
    "et_feature_importances = pd.DataFrame(\n",
    "    {\"feature\": feature_names, \"importance\": extra_tree.feature_importances_}\n",
    ")"
   ]
  },
  {
   "cell_type": "code",
   "execution_count": null,
   "id": "a425b62a",
   "metadata": {},
   "outputs": [],
   "source": [
    "et_feature_importances.sort_values(\"importance\", ascending=False,inplace=True)"
   ]
  },
  {
   "cell_type": "code",
   "execution_count": null,
   "id": "e65554b8",
   "metadata": {},
   "outputs": [],
   "source": [
    "# visualize the importance of each feature\n",
    "fig, ax = plt.subplots(figsize=(12,6))\n",
    "et_feature_importances.plot.bar(x='feature', y='importance', yerr=std, ax=ax, legend=False)\n",
    "ax.set_title(\"Feature importances\")\n",
    "ax.set_ylabel(\"Mean decrease in impurity\")\n",
    "fig.tight_layout()"
   ]
  },
  {
   "cell_type": "code",
   "execution_count": null,
   "id": "d5747386",
   "metadata": {},
   "outputs": [],
   "source": [
    "# save the info\n",
    "et_final_dict = {\n",
    "    \"k\": None,\n",
    "    \"columns\": et_feature_importances['feature'].tolist(),\n",
    "    \"importances\": et_feature_importances['importance'].tolist(),\n",
    "}\n",
    "\n",
    "with open(fs_rf_path + \"extra-tree-classifier-feature-importance.json\", \"w\") as fp:\n",
    "    json.dump(et_final_dict, fp) "
   ]
  },
  {
   "cell_type": "markdown",
   "id": "29c1fe04",
   "metadata": {},
   "source": [
    "Visualizing top 10 common features for random forest and extra trees"
   ]
  },
  {
   "cell_type": "code",
   "execution_count": null,
   "id": "8019614d",
   "metadata": {},
   "outputs": [],
   "source": [
    "common_imp_features = pd.merge(rf_feature_importances.iloc[:11], et_feature_importances.iloc[:11], how = 'inner', on = ['feature'])\n",
    "common_imp_features.rename(columns={'importance_x':'random_forest_importance','importance_y':'extra_tree_importance'}, inplace=True)"
   ]
  },
  {
   "cell_type": "code",
   "execution_count": null,
   "id": "e672b441",
   "metadata": {},
   "outputs": [],
   "source": [
    "# visualize the importance of each feature\n",
    "common_imp_features.plot.bar(x='feature', y=['random_forest_importance','extra_tree_importance'], legend=True)"
   ]
  },
  {
   "cell_type": "markdown",
   "id": "6459ca27",
   "metadata": {},
   "source": [
    "both trees almost gave the same important features. These are the top 10 important features for our dataset."
   ]
  },
  {
   "cell_type": "markdown",
   "id": "e1b633b8",
   "metadata": {},
   "source": [
    "___\n",
    "# 2. Permutation Importance"
   ]
  },
  {
   "cell_type": "code",
   "execution_count": null,
   "id": "ba083c24",
   "metadata": {},
   "outputs": [],
   "source": [
    "from sklearn.inspection import permutation_importance\n",
    "start_time = time.time()\n",
    "result = permutation_importance(\n",
    "    forest, X, y, n_repeats=4\n",
    ")\n",
    "elapsed_time = time.time() - start_time\n",
    "print(f\"Elapsed time to compute the importances: {elapsed_time:.3f} seconds\")\n",
    "\n",
    "forest_importances = pd.Series(result.importances_mean, index=feature_names)\n",
    "forest_importances.sort_values(ascending=False,inplace=True)"
   ]
  },
  {
   "cell_type": "code",
   "execution_count": null,
   "id": "2e0b71a8",
   "metadata": {},
   "outputs": [],
   "source": [
    "# save the info\n",
    "et_final_dict = {\n",
    "    \"k\": None,\n",
    "    \"columns\": forest_importances.index.tolist(),\n",
    "    \"importances\": forest_importances.values.tolist(),\n",
    "}\n",
    "\n",
    "with open(fs_rf_path + \"permutation_importance.json\", \"w\") as fp:\n",
    "    json.dump(et_final_dict, fp) "
   ]
  },
  {
   "cell_type": "code",
   "execution_count": null,
   "id": "78f8689d",
   "metadata": {},
   "outputs": [],
   "source": [
    "fig, ax = plt.subplots(figsize=(12,6))\n",
    "forest_importances.plot.bar(yerr=result.importances_std, ax=ax)\n",
    "ax.set_title(\"Feature importances using permutation on full model\")\n",
    "ax.set_ylabel(\"Mean accuracy decrease\")\n",
    "fig.tight_layout()\n",
    "plt.show()"
   ]
  },
  {
   "cell_type": "markdown",
   "id": "666a8d2d",
   "metadata": {},
   "source": [
    "---\n",
    "# Analysis - Correlation matrix with heatmap"
   ]
  },
  {
   "cell_type": "code",
   "execution_count": null,
   "id": "2ed83792",
   "metadata": {},
   "outputs": [],
   "source": [
    "#get correlations of each features in dataset and plot heatmap\n",
    "corrmat = pd.concat([X,y], axis = 1).corr()\n",
    "top_corr_features = corrmat.index\n",
    "plt.figure(figsize=(24,24))\n",
    "g=sns.heatmap(pd.concat([X,y], axis = 1)[top_corr_features].corr(),annot=True,cmap=\"RdYlGn\")\n",
    "plt.tight_layout()"
   ]
  },
  {
   "cell_type": "code",
   "execution_count": null,
   "id": "804325e5",
   "metadata": {},
   "outputs": [],
   "source": [
    "plt.figure(figsize=(24,10))\n",
    "g2=sns.heatmap(pd.DataFrame(pd.concat([X,y], axis = 1)[top_corr_features].corr().loc['rating']).T,annot=False,cmap=\"RdYlGn\")"
   ]
  },
  {
   "cell_type": "markdown",
   "id": "389ca446",
   "metadata": {},
   "source": [
    "- This heatmap is to show which features are highly correlated with the output feature\n",
    "- positive - increase in one value increases the target value and viceversa\n",
    "- cummulative mean rating and and mean rating have high correlation with the rating. \n",
    "- this is because these features are extracted from rating. \n",
    "- movie id and release date don't have high correlation with the rating, but still those features are important. "
   ]
  },
  {
   "cell_type": "markdown",
   "id": "7cb6ae76",
   "metadata": {},
   "source": [
    "# 3. Embedded methods"
   ]
  },
  {
   "cell_type": "code",
   "execution_count": null,
   "id": "88f98c13",
   "metadata": {},
   "outputs": [],
   "source": [
    "from sklearn.preprocessing import StandardScaler\n",
    "from sklearn.linear_model import Lasso, LogisticRegression\n",
    "from sklearn.feature_selection import SelectFromModel\n",
    "from sklearn.preprocessing import StandardScaler"
   ]
  },
  {
   "cell_type": "code",
   "execution_count": null,
   "id": "1aaf8511",
   "metadata": {},
   "outputs": [],
   "source": [
    "scaler = StandardScaler()\n",
    "scaled = scaler.fit_transform(X)"
   ]
  },
  {
   "cell_type": "code",
   "execution_count": null,
   "id": "79a51cfd",
   "metadata": {},
   "outputs": [],
   "source": [
    "sel_ = SelectFromModel(LogisticRegression(C=1, penalty='l2'))\n",
    "sel_.fit(scaled, y)"
   ]
  },
  {
   "cell_type": "code",
   "execution_count": null,
   "id": "c5cab473",
   "metadata": {},
   "outputs": [],
   "source": [
    "sel_.get_support()"
   ]
  },
  {
   "cell_type": "code",
   "execution_count": null,
   "id": "dcca1465",
   "metadata": {},
   "outputs": [],
   "source": [
    "selected_feat = X.columns[(sel_.get_support())]\n",
    "print('total no of features: {}'.format((X.shape[1])))\n",
    "print('No of selected features: {}'.format(len(selected_feat)))\n",
    "print('features with coefficients shrank to zero: {}'.format(\n",
    "      np.sum(sel_.estimator_.coef_ == 0)))"
   ]
  },
  {
   "cell_type": "code",
   "execution_count": null,
   "id": "5a433d6c",
   "metadata": {},
   "outputs": [],
   "source": [
    "# save the info\n",
    "et_final_dict = {\n",
    "    \"k\": None,\n",
    "    \"columns\": selected_feat.tolist(),\n",
    "    \"importances\": None,\n",
    "}\n",
    "\n",
    "with open(fs_rf_path + \"select_from_model.json\", \"w\") as fp:\n",
    "    json.dump(et_final_dict, fp) "
   ]
  },
  {
   "cell_type": "markdown",
   "id": "004c28d4",
   "metadata": {},
   "source": [
    "# Van Methods"
   ]
  },
  {
   "cell_type": "code",
   "execution_count": null,
   "id": "9776c7a9",
   "metadata": {},
   "outputs": [],
   "source": []
  },
  {
   "cell_type": "markdown",
   "id": "24e26e80",
   "metadata": {},
   "source": [
    "---"
   ]
  },
  {
   "cell_type": "markdown",
   "id": "b849fd9a",
   "metadata": {},
   "source": [
    "# Fadi Methods"
   ]
  },
  {
   "cell_type": "code",
   "execution_count": null,
   "id": "e1bba1ef",
   "metadata": {},
   "outputs": [],
   "source": []
  },
  {
   "cell_type": "markdown",
   "id": "8eec600e",
   "metadata": {},
   "source": [
    "---"
   ]
  },
  {
   "cell_type": "code",
   "execution_count": null,
   "id": "e5bdab31",
   "metadata": {},
   "outputs": [],
   "source": []
  }
 ],
 "metadata": {
  "kernelspec": {
   "display_name": "Python 3",
   "language": "python",
   "name": "python3"
  },
  "language_info": {
   "codemirror_mode": {
    "name": "ipython",
    "version": 3
   },
   "file_extension": ".py",
   "mimetype": "text/x-python",
   "name": "python",
   "nbconvert_exporter": "python",
   "pygments_lexer": "ipython3",
   "version": "3.8.8"
  }
 },
 "nbformat": 4,
 "nbformat_minor": 5
}
